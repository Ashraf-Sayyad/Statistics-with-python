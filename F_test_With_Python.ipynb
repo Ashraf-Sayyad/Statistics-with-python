{
  "nbformat": 4,
  "nbformat_minor": 0,
  "metadata": {
    "colab": {
      "provenance": []
    },
    "kernelspec": {
      "name": "python3",
      "display_name": "Python 3"
    },
    "language_info": {
      "name": "python"
    }
  },
  "cells": [
    {
      "cell_type": "markdown",
      "metadata": {
        "id": "15644e65-b909-4625-899c-81a82a92867f"
      },
      "source": [
        "## F test With Python"
      ]
    },
    {
      "cell_type": "code",
      "execution_count": 1,
      "metadata": {
        "id": "793a7e26-aa7d-4429-bdb7-8ae8ba3af4de"
      },
      "outputs": [],
      "source": [
        "#Evidence to say that the two population variances are not equal.\n",
        "\n",
        "worker1= [18, 19, 22, 25, 27, 28, 41, 45, 51, 55]\n",
        "worker2= [14, 15, 15, 17, 18, 22, 25, 25, 27, 34]"
      ]
    },
    {
      "cell_type": "code",
      "execution_count": 2,
      "metadata": {
        "id": "319d65cd-703a-4735-9187-556d4c5c5366"
      },
      "outputs": [],
      "source": [
        "## Calaculating Ftest\n",
        "import numpy as np\n",
        "f_test=np.var(worker1)/np.var(worker2)"
      ]
    },
    {
      "cell_type": "code",
      "execution_count": 3,
      "metadata": {
        "id": "218eab37-9c47-4cc7-9d4a-9e84d97f9ecd",
        "outputId": "0c741d20-665d-42e8-fe8d-d89b015193f0",
        "colab": {
          "base_uri": "https://localhost:8080/"
        }
      },
      "outputs": [
        {
          "output_type": "execute_result",
          "data": {
            "text/plain": [
              "4.387122002085506"
            ]
          },
          "metadata": {},
          "execution_count": 3
        }
      ],
      "source": [
        "f_test"
      ]
    },
    {
      "cell_type": "code",
      "execution_count": 4,
      "metadata": {
        "id": "683eb8d2-92f8-47bb-950d-12dca928b0d2"
      },
      "outputs": [],
      "source": [
        "## Degree OF fReedom\n",
        "df1=len(worker1)-1\n",
        "df2=len(worker2)-1\n",
        "signifance_value=0.05"
      ]
    },
    {
      "cell_type": "code",
      "execution_count": 5,
      "metadata": {
        "id": "34eab053-4ff3-4648-81f9-68381bc498dc"
      },
      "outputs": [],
      "source": [
        "import scipy.stats as stat"
      ]
    },
    {
      "cell_type": "code",
      "execution_count": 6,
      "metadata": {
        "id": "13be6395-f85e-4cd9-a26e-daa9dad5bec1"
      },
      "outputs": [],
      "source": [
        "critical_value=stat.f.ppf(q=1-signifance_value,dfn=df1,dfd=df2)"
      ]
    },
    {
      "cell_type": "code",
      "execution_count": 7,
      "metadata": {
        "id": "7713e88f-19e6-4765-85bd-5d9147cb5d12",
        "outputId": "cec58339-9a31-47de-824d-ecf8ed1ba20a",
        "colab": {
          "base_uri": "https://localhost:8080/"
        }
      },
      "outputs": [
        {
          "output_type": "execute_result",
          "data": {
            "text/plain": [
              "3.178893104458269"
            ]
          },
          "metadata": {},
          "execution_count": 7
        }
      ],
      "source": [
        "critical_value"
      ]
    },
    {
      "cell_type": "code",
      "execution_count": 8,
      "metadata": {
        "id": "38ad607c-9d65-4b2b-99b8-c0c0db99c4d0",
        "outputId": "0fa48c2a-7f53-46d2-b9d3-6847b3ae3988",
        "colab": {
          "base_uri": "https://localhost:8080/"
        }
      },
      "outputs": [
        {
          "output_type": "stream",
          "name": "stdout",
          "text": [
            "Reject the Null Hypothesis\n"
          ]
        }
      ],
      "source": [
        "if f_test>critical_value:\n",
        "    print(\"Reject the Null Hypothesis\")\n",
        "else:\n",
        "    print(\"We fail to Reject the Null Hypothesis\")"
      ]
    },
    {
      "cell_type": "code",
      "source": [],
      "metadata": {
        "id": "_phdXhwRKX8I"
      },
      "execution_count": null,
      "outputs": []
    },
    {
      "cell_type": "code",
      "source": [],
      "metadata": {
        "id": "8KHczwqHKX_V"
      },
      "execution_count": null,
      "outputs": []
    }
  ]
}