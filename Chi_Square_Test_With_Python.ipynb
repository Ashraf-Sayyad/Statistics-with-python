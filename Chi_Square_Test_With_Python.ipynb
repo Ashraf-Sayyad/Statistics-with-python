{
  "nbformat": 4,
  "nbformat_minor": 0,
  "metadata": {
    "colab": {
      "provenance": []
    },
    "kernelspec": {
      "name": "python3",
      "display_name": "Python 3"
    },
    "language_info": {
      "name": "python"
    }
  },
  "cells": [
    {
      "cell_type": "markdown",
      "metadata": {
        "id": "c68fecf8-a73f-4fbd-978f-d75de56625fe"
      },
      "source": [
        "## Chi Square Test With Python"
      ]
    },
    {
      "cell_type": "code",
      "execution_count": 1,
      "metadata": {
        "id": "53f2f5ea-cfeb-4c8f-9557-5ee5b76d8dae"
      },
      "outputs": [],
      "source": [
        "import scipy.stats as stat\n",
        "import numpy as np"
      ]
    },
    {
      "cell_type": "code",
      "execution_count": 2,
      "metadata": {
        "id": "8afde734-19ce-4814-b232-2dfb5fb3d000"
      },
      "outputs": [],
      "source": [
        "## No of hours student study in a weekly basis daily\n",
        "##monday,tuesday,Wednesday,thursday,Friday,Saturday,sunday\n",
        "expected_data=[8,6,7,9,6,9,7]\n",
        "observed_data=[7,8,6,9,9,6,7]"
      ]
    },
    {
      "cell_type": "code",
      "execution_count": 3,
      "metadata": {
        "id": "d9f99133-b67b-44ab-95a4-d73f1485085e",
        "outputId": "c63db5f7-3141-4d19-e4be-7a60e7651e55",
        "colab": {
          "base_uri": "https://localhost:8080/"
        }
      },
      "outputs": [
        {
          "output_type": "execute_result",
          "data": {
            "text/plain": [
              "(52, 52)"
            ]
          },
          "metadata": {},
          "execution_count": 3
        }
      ],
      "source": [
        "sum(expected_data),sum(observed_data)"
      ]
    },
    {
      "cell_type": "code",
      "execution_count": 4,
      "metadata": {
        "id": "0877666b-699f-4265-8994-501d07d7575a"
      },
      "outputs": [],
      "source": [
        "## Chi-Square Goodness Of Fit Test\n",
        "chisquare_test_statistic,p_value=stat.chisquare(observed_data,expected_data)"
      ]
    },
    {
      "cell_type": "code",
      "execution_count": 5,
      "metadata": {
        "id": "8b621eeb-1c1a-4d30-9745-e7fdc9e8519d",
        "outputId": "6bf87587-12d7-4133-f937-c285368fb973",
        "colab": {
          "base_uri": "https://localhost:8080/"
        }
      },
      "outputs": [
        {
          "output_type": "execute_result",
          "data": {
            "text/plain": [
              "(3.4345238095238093, 0.7526596580922865)"
            ]
          },
          "metadata": {},
          "execution_count": 5
        }
      ],
      "source": [
        "chisquare_test_statistic,p_value"
      ]
    },
    {
      "cell_type": "code",
      "execution_count": 6,
      "metadata": {
        "id": "699dc7b0-0150-4b8c-a7e7-8c2112be2f2c",
        "outputId": "7daa4504-0615-42bf-ed22-e498e22889be",
        "colab": {
          "base_uri": "https://localhost:8080/"
        }
      },
      "outputs": [
        {
          "output_type": "stream",
          "name": "stdout",
          "text": [
            "6\n"
          ]
        }
      ],
      "source": [
        "## find the critical value\n",
        "significane_value=0.05\n",
        "dof=len(expected_data)-1\n",
        "print(dof)\n",
        "critical_value=stat.chi2.ppf(1-significane_value,dof)"
      ]
    },
    {
      "cell_type": "code",
      "execution_count": 7,
      "metadata": {
        "id": "aa233891-d7be-4e41-b539-86e7bdeab8aa",
        "outputId": "55a695b4-58e6-4990-94e0-ac56a5a484e7",
        "colab": {
          "base_uri": "https://localhost:8080/"
        }
      },
      "outputs": [
        {
          "output_type": "execute_result",
          "data": {
            "text/plain": [
              "12.591587243743977"
            ]
          },
          "metadata": {},
          "execution_count": 7
        }
      ],
      "source": [
        "critical_value"
      ]
    },
    {
      "cell_type": "code",
      "execution_count": 8,
      "metadata": {
        "id": "e54e9d32-bed9-4189-bc15-d632ee1c6946",
        "outputId": "b503536e-4287-47c4-ba30-4006d1ca2a7c",
        "colab": {
          "base_uri": "https://localhost:8080/"
        }
      },
      "outputs": [
        {
          "output_type": "stream",
          "name": "stdout",
          "text": [
            "Accept the null hypothesis\n"
          ]
        }
      ],
      "source": [
        "if chisquare_test_statistic > critical_value:\n",
        "    print(\"Reject the null hypothesis\")\n",
        "else:\n",
        "    print(\"Accept the null hypothesis\")"
      ]
    },
    {
      "cell_type": "code",
      "execution_count": null,
      "metadata": {
        "id": "3b629d34-dd8e-45d4-9a9b-cb0bf603fc14"
      },
      "outputs": [],
      "source": []
    }
  ]
}